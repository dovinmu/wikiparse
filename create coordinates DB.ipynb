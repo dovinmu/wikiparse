{
 "cells": [
  {
   "cell_type": "markdown",
   "metadata": {},
   "source": [
    "Now that we have a SQLite database with indices, page titles, and coordinate strings, let's make a database where we extract all the metadata out of those coordinate strings so it's queryable.\n",
    "\n",
    "This should be run after the other notebook that extracts the coordinate strings."
   ]
  },
  {
   "cell_type": "code",
   "execution_count": 5,
   "metadata": {},
   "outputs": [],
   "source": [
    "import csv\n",
    "import json\n",
    "from wikiparse import indexer, syntax_parser as sp\n",
    "import time\n",
    "import os\n",
    "import sqlite3\n",
    "import random"
   ]
  },
  {
   "cell_type": "code",
   "execution_count": 6,
   "metadata": {},
   "outputs": [
    {
     "name": "stdout",
     "output_type": "stream",
     "text": [
      "opening E:/enwiki-20190101-pages-articles-multistream.xml/scratch\\py3\\index.db\n",
      "current mapping 19.1 m pages\n",
      "\n",
      "__init__ complete\n"
     ]
    }
   ],
   "source": [
    "dumps = indexer.load_dumps(build_index=False, scratch_folder='py3')\n",
    "english = dumps['en']"
   ]
  },
  {
   "cell_type": "code",
   "execution_count": 6,
   "metadata": {},
   "outputs": [],
   "source": [
    "# english.db.close()"
   ]
  },
  {
   "cell_type": "code",
   "execution_count": 7,
   "metadata": {},
   "outputs": [],
   "source": [
    "c = english.cursor"
   ]
  },
  {
   "cell_type": "markdown",
   "metadata": {},
   "source": [
    "Before we create the database let's get a complete list of the entries we're going to want. That is, let's look at all the coordinate strings we've extracted from each page and extract the list of keywords from there. "
   ]
  },
  {
   "cell_type": "code",
   "execution_count": 8,
   "metadata": {},
   "outputs": [
    {
     "data": {
      "text/plain": [
       "[(66,\n",
       "  'Coord|32.7|-86.7|type:adm1st_region:US_dim:1000000_source:USGS|display=title'),\n",
       " (86, 'Coord|36|42|N|3|13|E|type:city'),\n",
       " (114,\n",
       "  'Coord|64|N|150|W|region:US-AK_type:adm1st_scale:10000000|display=title|notes=<ref>{{Cite gnis|1785533|State of Alaska'),\n",
       " (139,\n",
       "  'Coord|13|19|N|169|9|W|type:event|name=Apollo 11 splashdown||Coord|10|36|N|172|24|E|display=inline||Coord|13|19|N|169|9|W|display=inline'),\n",
       " (140,\n",
       "  'Coord|8|8|N|165|1|W|type:event|name=Apollo 8 landing||Coord|30|12|N|74|7|W|name=Apollo 8 S-IC impact||Coord|31|50|N|37|17|W|name=Apollo 8 S-II impact||Coord|8|8|N|165|1|W|name=Apollo 8 estimated splashdown'),\n",
       " (161,\n",
       "  'Coord|12|30|40|N|69|58|27|W|type:isle|display=title||Coord|12|31|07|N|70|02|09|W||Coord|12|31|01|N|70|02|04|W|'),\n",
       " (168, 'Coord|12|30|S|18|30|E|display=title||Coord|8|50|S|13|20|E|type:city'),\n",
       " (177,\n",
       "  'Coord|55|N|115|W|type:adm1st_scale:10000000_region:CA-AB|display=title'),\n",
       " (185, 'Coord|33|N|65|E|display=title||Coord|34|32|N|69|08|E|type:city'),\n",
       " (186,\n",
       "  'Coord|41|19|N|19|49|E|type:city||Coord|41|N|20|E|type:country_region:AL|display=title')]"
      ]
     },
     "execution_count": 8,
     "metadata": {},
     "output_type": "execute_result"
    }
   ],
   "source": [
    "result = c.execute('''SELECT page_num,coords,title FROM indices WHERE coords != \"\"\n",
    "''').fetchall()\n",
    "coordStrings = {item[0]:item[1] for item in result}\n",
    "idx_to_title = {item[0]:item[2] for item in result}\n",
    "list(coordStrings.items())[:10]"
   ]
  },
  {
   "cell_type": "code",
   "execution_count": 171,
   "metadata": {},
   "outputs": [
    {
     "data": {
      "text/plain": [
       "(136417, dict)"
      ]
     },
     "execution_count": 171,
     "metadata": {},
     "output_type": "execute_result"
    }
   ],
   "source": [
    "len(coordStrings), type(coordStrings)"
   ]
  },
  {
   "cell_type": "code",
   "execution_count": 172,
   "metadata": {},
   "outputs": [
    {
     "data": {
      "text/plain": [
       "[(66, 'Alabama'),\n",
       " (86, 'Algeria'),\n",
       " (114, 'Alaska'),\n",
       " (139, 'Apollo 11'),\n",
       " (140, 'Apollo 8'),\n",
       " (161, 'Aruba'),\n",
       " (168, 'Angola'),\n",
       " (177, 'Alberta'),\n",
       " (185, 'Afghanistan'),\n",
       " (186, 'Albania')]"
      ]
     },
     "execution_count": 172,
     "metadata": {},
     "output_type": "execute_result"
    }
   ],
   "source": [
    "list(idx_to_title_title.items())[:10]"
   ]
  },
  {
   "cell_type": "markdown",
   "metadata": {},
   "source": [
    "If a page has more than one coordinate string, choose the one that's displayed at the top (`display=title`) or the first."
   ]
  },
  {
   "cell_type": "code",
   "execution_count": 7,
   "metadata": {},
   "outputs": [],
   "source": [
    "for page_num in coordStrings:\n",
    "    if '||' in coordStrings[page_num]:\n",
    "        pageCoordStrings = coordStrings[page_num].split('||')\n",
    "        coordStrings[page_num] = pageCoordStrings[0]\n",
    "        for s in pageCoordStrings:\n",
    "            if \"display=title\" in s:\n",
    "                coordStrings[page_num] = s"
   ]
  },
  {
   "cell_type": "code",
   "execution_count": 8,
   "metadata": {},
   "outputs": [
    {
     "data": {
      "text/plain": [
       "[(66,\n",
       "  'Coord|32.7|-86.7|type:adm1st_region:US_dim:1000000_source:USGS|display=title'),\n",
       " (86, 'Coord|36|42|N|3|13|E|type:city'),\n",
       " (114,\n",
       "  'Coord|64|N|150|W|region:US-AK_type:adm1st_scale:10000000|display=title|notes=<ref>{{Cite gnis|1785533|State of Alaska'),\n",
       " (139, 'Coord|13|19|N|169|9|W|type:event|name=Apollo 11 splashdown'),\n",
       " (140, 'Coord|8|8|N|165|1|W|type:event|name=Apollo 8 landing'),\n",
       " (161, 'Coord|12|30|40|N|69|58|27|W|type:isle|display=title'),\n",
       " (168, 'Coord|12|30|S|18|30|E|display=title'),\n",
       " (177,\n",
       "  'Coord|55|N|115|W|type:adm1st_scale:10000000_region:CA-AB|display=title'),\n",
       " (185, 'Coord|33|N|65|E|display=title'),\n",
       " (186, 'Coord|41|N|20|E|type:country_region:AL|display=title')]"
      ]
     },
     "execution_count": 8,
     "metadata": {},
     "output_type": "execute_result"
    }
   ],
   "source": [
    "list(coordStrings.items())[:10]"
   ]
  },
  {
   "cell_type": "markdown",
   "metadata": {},
   "source": [
    "For some Coord templates, there's a `note` (https://en.wikipedia.org/wiki/Template:Coord#Examples) which contains more pipes that will cut off the rest of the template. Since that tag seems to come after the other important tags, let's\n",
    "ignore this problem."
   ]
  },
  {
   "cell_type": "code",
   "execution_count": 9,
   "metadata": {},
   "outputs": [
    {
     "name": "stdout",
     "output_type": "stream",
     "text": [
      "{'type': 'event', 'name': 'Apollo 8 landing'}\n",
      "{'region': 'US-AK_type', 'display': 'title', 'notes': '<ref>{{Cite gnis'}\n",
      "{'type': 'city'}\n"
     ]
    }
   ],
   "source": [
    "def getKeywords(coordString, verbose=False):\n",
    "    if verbose:\n",
    "        print(coordString)\n",
    "    keywords = {}\n",
    "    rest = []\n",
    "    items = coordString.split('|')\n",
    "    for item in items:\n",
    "        if '=' in item:\n",
    "            keywords[item.split('=')[0]] = item.split('=')[1]\n",
    "        elif ':' in item:\n",
    "            keywords[item.split(':')[0]] = item.split(':')[1]\n",
    "        else:\n",
    "            rest.append(item)\n",
    "#     return keywords, '|'.join(rest)\n",
    "    return keywords\n",
    "print(getKeywords('Coord|8|8|N|165|1|W|type:event|name=Apollo 8 landing'))\n",
    "print(getKeywords('Coord|64|N|150|W|region:US-AK_type:adm1st_scale:10000000|display=title|notes=<ref>{{Cite gnis|1785533|State of Alaska'))\n",
    "print(getKeywords('Coord|36|42|N|3|13|E|type:city'))"
   ]
  },
  {
   "cell_type": "markdown",
   "metadata": {},
   "source": [
    "We only care about a subset of keywords, so let's make a whitelist."
   ]
  },
  {
   "cell_type": "code",
   "execution_count": 10,
   "metadata": {},
   "outputs": [
    {
     "data": {
      "text/plain": [
       "defaultdict(int,\n",
       "            {'type': 56689,\n",
       "             'display': 119232,\n",
       "             'region': 29135,\n",
       "             'notes': 975,\n",
       "             'name': 5800,\n",
       "             'dim': 537,\n",
       "             'globe': 228,\n",
       "             'scale': 2092,\n",
       "             'source': 4409,\n",
       "             'format': 12041,\n",
       "             'label': 1,\n",
       "             'url': 68,\n",
       "             'title': 76,\n",
       "             'accessdate': 66,\n",
       "             'DK_type': 1,\n",
       "             \"The ''globe''&nbsp;[[File\": 25,\n",
       "             'upright': 25,\n",
       "             '': 1,\n",
       "             'date': 29,\n",
       "             'work': 42,\n",
       "             'publisher': 56,\n",
       "             'USGS': 1,\n",
       "             'Register of Historic Parks and Gardens]].<ref name': 1,\n",
       "             'num': 1,\n",
       "             'desc': 1,\n",
       "             'access-date': 25,\n",
       "             'mode': 1,\n",
       "             'deadurl': 2,\n",
       "             'archiveurl': 1,\n",
       "             'archivedate': 1,\n",
       "             'df': 1,\n",
       "             'landmark_region': 2,\n",
       "             '<br>Crow Lane Roundabout': 1,\n",
       "             'nosave': 7,\n",
       "             'id': 26,\n",
       "             'For example': 1,\n",
       "             '5': 4,\n",
       "             'GNS]] coordinates adjusted using [[Google Maps]] and [http': 2,\n",
       "             'author': 8,\n",
       "             'location': 3,\n",
       "             'reason': 3,\n",
       "             'Type': 4,\n",
       "             'egion': 1,\n",
       "             'website': 4,\n",
       "             'last1': 2,\n",
       "             'first1': 2,\n",
       "             'archive-url': 1,\n",
       "             'dead-url': 1,\n",
       "             'archive-date': 1,\n",
       "             '9': 4,\n",
       "             'FR_type': 2,\n",
       "             'region_BD_type': 1,\n",
       "             '3': 2,\n",
       "             '_region': 2,\n",
       "             '_source': 1,\n",
       "             'elevation': 3,\n",
       "             '4': 3,\n",
       "             \"coordinates map template]] and one of the options for either degree, minutes and seconds or decimal latitude and longitude.\\n\\n*There has been a '''[[Module\": 1,\n",
       "             'Simpson]] and [[Template': 1,\n",
       "             'Location map options and instructions]] for an example of its use.\\n\\n\\n6. Update census demographic information to the [http://www12.statcan.ca/english/census06/data/profiles/community/Index.cfm?Lang': 1,\n",
       "             'community]] pages and remove <nowiki>{{</nowiki>Template': 1,\n",
       "             'regionCA-ON_type': 1,\n",
       "             \"Coord]] - a cool template that displays the coordinates of the county. Notes about this one:\\n\\n''View [[Template:Infobox U.S. county/Sample]] to see how this infobox is rendered.''\": 1,\n",
       "             'Coord]], [[Template': 1,\n",
       "             'Coor at dms]], etc. To simplify things, I switch the URL to the one using [[Template': 1,\n",
       "             'Erik Baas]] 15': 1,\n",
       "             'Bryan]] (<small>[[User talk': 1,\n",
       "             '[[': 1,\n",
       "             'commons]]</small>) 18': 1,\n",
       "             'Dispenser]] 19': 1,\n",
       "             'Cush]] 10:22, 28 October 2007 (UTC)': 1,\n",
       "             'Rtphokie]] 22': 1,\n",
       "             '<font color': 1,\n",
       "             'Gene Nygaard]] 23': 1,\n",
       "             'Anomie]] 01': 1,\n",
       "             'Rtphokie]] 12:32, 28 October 2007 (UTC)': 1,\n",
       "             'heading': 2,\n",
       "             'contribs]]; 1/1) [[': 1,\n",
       "             'Monitored link]] - www.fourinfo.com/newsletter/feb05.htm#greetings%20from%20rural%20ramble - rule': 1,\n",
       "             '.com - reason: Automonitor: reported to [[:fr:MediaWiki:Spam-blacklist]] ([http://fr.wikipedia.org/w/index.php?title': 1,\n",
       "             'Rural Ramble]] - [http://en.wikipedia.org/w/index.php?title': 1,\n",
       "             'display{{': 1,\n",
       "             'coordinate template]], as well as related templates listed in documentation section. This template needs to be placed in the article before it can appear on google maps. [[User': 1,\n",
       "             'Someguy1221]] ([[User talk': 1,\n",
       "             'talk]]) 22:22, 2 June 2008 (UTC)': 1,\n",
       "             'Deproduction]] ([[User talk': 1,\n",
       "             'talk]]) 17': 1,\n",
       "             '<font STYLE': 1,\n",
       "             'Talk]] or [[Special': 1,\n",
       "             'C]]</sup></b> 19': 1,\n",
       "             '70.59.16.211]] ([[User talk': 1,\n",
       "             'talk]]) 16:36, 3 June 2008 (UTC)': 1,\n",
       "             'Mark J Richards]] ([[User talk': 1,\n",
       "             'talk]]) 09': 3,\n",
       "             \"'''<font color\": 1,\n",
       "             '<small><sub><font color': 1,\n",
       "             '<small><sup><font color': 1,\n",
       "             'Aozukum]] ([[User talk': 1,\n",
       "             'talk]]) 13': 1,\n",
       "             'this guide]]. It has a lot of tips for getting started. You may also want to look at this [[WP': 1,\n",
       "             'notability guideline]] for biographies. I have also left a message on [[User talk': 1,\n",
       "             'your talk page]] with some useful links. Good luck and feel free to ask questions! <b><font color': 1,\n",
       "             'TN]]</font>‑<font color': 1,\n",
       "             'X]]</font>-<font color': 1,\n",
       "             'Man]]</font></b> 13:22, 3 June 2008 (UTC)': 1,\n",
       "             'Gaurdians1]] ([[User talk': 1,\n",
       "             'talk]]) 20': 1,\n",
       "             \"internal links]] created by putting double brackets - [[ ]] -  around the name of the article you would like to link to.  For example, if I want to link to an article about mice, I would type <nowiki>[[Mice]]</nowiki>, and it would show up as [[Mice]].  If you try to link to an article that doesn't exist, it will show up as a [[Wikipedia\": 1,\n",
       "             'red link]], [[like this one]]. -- [[User': 1,\n",
       "             'Nataly<font color': 1,\n",
       "             'reference desks]]. [[User': 1,\n",
       "             'ukexpat]] ([[User talk': 1,\n",
       "             'talk]]) 13:08, 4 June 2008 (UTC)': 1,\n",
       "             'Sibyllenoras]] ([[User talk': 1,\n",
       "             'talk]]) 12': 1,\n",
       "             \"to this article]]? It looks like it's available. If you have any other questions, let me know. Cheers! <b><font color\": 1,\n",
       "             'Man]]</font></b> 13': 1,\n",
       "             'Confusing Manifestation]]<small>([[User talk': 1,\n",
       "             'Say hi!]])</small> 23:24, 4 June 2008 (UTC)': 1,\n",
       "             '202.67.4.3]] ([[User talk': 1,\n",
       "             'talk]]) 06:44, 4 June 2008 (UTC)': 1,\n",
       "             'Coordinator]]\\n* Advertisements:  <span id': 1,\n",
       "             'Questions]] <span id': 1,\n",
       "             'Style (articles)]] <span id': 1,\n",
       "             'Quality of articles]]\\n**Assessment department': 1,\n",
       "             'Questions]]) <span id': 1,\n",
       "             'Templates]] (in general) and specific topics as well (articles, talk pages, maintenance, etc.)\\n* Barnstars': 1,\n",
       "             'Awards]]\\n* Biographies: <span id': 1,\n",
       "             'Series boxes]]) \\n***[[Wikipedia': 1,\n",
       "             'Resources]]) <span id': 1,\n",
       "             'User scripts]]) <span id': 1,\n",
       "             'numbers': 1,\n",
       "             'sections': 1,\n",
       "             'landmark_scale': 1,\n",
       "             \"'' See here for further help'']]\\n* For administrative districts, use the location of the head office, or if that cannot be found, the approximate centre of the district.\": 1,\n",
       "             'overly precise]], but do ensure that the single point that the chosen pair of coordinates represents does fall on or within the feature.': 1,\n",
       "             'NS': 3,\n",
       "             'EW': 3,\n",
       "             'deg': 1,\n",
       "             'min': 1,\n",
       "             'sec': 1,\n",
       "             'hem': 1,\n",
       "             'rnd': 1,\n",
       "             'Region': 2,\n",
       "             'nogoogle': 1,\n",
       "             'noosm': 1,\n",
       "             'type:mountain_elevation:437_region': 1,\n",
       "             'region:US},}<ref>Topographical Map of Mahaska County, Iowa, [http://digital.lib.uiowa.edu/u?/atlases,48 Huebinger\\'s Atlas of the State of Iowa], Iowa Publishing Co., 1904</ref> and it quickly developed as one of the most prosperous and largest coal camps in Iowa.<ref>\"Iowa\\'s Pioneer Coal Operators,\" [https://books.google.com/books?id': 1,\n",
       "             \"passenger car]].  It left [[Staunton, Virginia]] on May 12 and traveled via Chicago and [[Marshalltown, Iowa]], arriving in Muchakinock on May 15.  Rail fare from Virginia to Iowa was $12, which the company paid and took as an advance against each miner's monthly wages.<ref name\": 1,\n",
       "             'adj': 1,\n",
       "             'pmc': 1,\n",
       "             'pmid': 1,\n",
       "             'doi': 2,\n",
       "             'year': 1,\n",
       "             'journal': 2,\n",
       "             'pages': 2,\n",
       "             'last2': 2,\n",
       "             'first2': 2,\n",
       "             'last3': 2,\n",
       "             'first3': 2,\n",
       "             'volume': 2,\n",
       "             'page': 3,\n",
       "             'diff': 1,\n",
       "             'box': 1,\n",
       "             'added': 1,\n",
       "             'changed': 1,\n",
       "             'deleted': 1,\n",
       "             'urls': 1,\n",
       "             'isIP': 1,\n",
       "             'function': 1,\n",
       "             'whitelisted': 1,\n",
       "             'timestamp': 1,\n",
       "             'entrydate': 1,\n",
       "             \"locations]], etc, and we currently don't expect perfection from new editors. Article development is iterative\": 1,\n",
       "             '<b style': 1,\n",
       "             'Rd232]] <sup>[[user talk': 1,\n",
       "             'talk]]</sup> 19': 1,\n",
       "             'Hans]] [[User talk': 1,\n",
       "             'Adler]] 14': 1,\n",
       "             '<joke>(also; we were first': 1,\n",
       "             'NOTE_4_IMAGE': 1,\n",
       "             'NOTE_4_FORMAT': 1,\n",
       "             'NOTE_4_CAT': 1,\n",
       "             'alt': 2,\n",
       "             'country': 2,\n",
       "             'line': 2,\n",
       "             'operator': 2,\n",
       "             'cause': 2,\n",
       "             'trains': 2,\n",
       "             'pax': 2,\n",
       "             'deaths': 2,\n",
       "             'language': 2,\n",
       "             'oclc': 1,\n",
       "             'Coordinates Template]]).': 1,\n",
       "             'Wikipedia': 1,\n",
       "             'label 1': 1,\n",
       "             '.': 1,\n",
       "             'type;landmark_region': 1,\n",
       "             'Template': 1,\n",
       "             'RU_type': 1,\n",
       "             'type_landmark_region': 1,\n",
       "             'last': 3,\n",
       "             '2': 1,\n",
       "             '\" does not show up in the included templates? --[[User': 1,\n",
       "             'ThurnerRupert]] ([[User talk': 1,\n",
       "             \"talk]]) 10:31, 25 August 2013 (UTC)\\n:::Sorry, I'm not sure what you mean. <span class\": 1,\n",
       "             'Andy Mabbett]]</span> (<span class': 1,\n",
       "             'Talk to Andy]]; [[Special': 1,\n",
       "             \"Andy's edits]]</span> 20\": 1,\n",
       "             'talk]]) 01:54, 26 August 2013 (UTC)': 1,\n",
       "             'talk]]) 07': 1,\n",
       "             '<span style': 2,\n",
       "             '♪ talk ♪]]</sup> 09': 1,\n",
       "             'talk]]) 10': 1,\n",
       "             'table]] to the article instead. If you look at [[Special': 1,\n",
       "             'quote': 1,\n",
       "             '<!-- location of Bangui -->display': 1,\n",
       "             '{{#property': 5,\n",
       "             'Wtype': 1,\n",
       "             'region_US-WA_type': 1,\n",
       "             'first': 2,\n",
       "             'island': 1,\n",
       "             'regio': 1,\n",
       "             'region:US-WV_scale:10000_source:placeopedia:display': 1,\n",
       "             'Avadi': 1,\n",
       "             'coordinates link]] (look for a globe icon at the top right corner of an article). Here is the link produced for the article [[United States]]: [https://tools.wmflabs.org/geohack/geohack.php?pagename': 1,\n",
       "             'Finnusertop]]</span> ([[User talk': 1,\n",
       "             'talk]] ⋅ [[Special': 1,\n",
       "             'contribs]]) 06:51, 10 March 2016 (UTC)': 1,\n",
       "             'Famous and Other Notable Maltipoos]]\" got added. Now if the dogs listed there had been in something like [[Old Yeller]] or [[Where the Red Fern Grows]] I\\'d think they deserved to be included, because they\\'d be notable. But they\\'re just dogs that had Facebook and YouTube pages made for them by their owners, and the info is sourced off those social media pages. I removed this stuff once already and an IP added it back with the comment, \"this editor’s [me] work reflects their bias\". Should I remove it again? [[User': 1,\n",
       "             'from': 4,\n",
       "             \"'''''template parameters'''''}&#125;'''\\n\\n*'''<code>wikidata page name</code>''' – unnamed positional parameter is the Wikidata page name (starting with Q). Default is the current page.\\n*'''<code>coordinate parameters</code>''' – passed through to Template\": 1,\n",
       "             'Usage]] at Template': 1,\n",
       "             'on 1,000,000+ other pages]].)\\n* Editors wanting to \\'\\'remove\\'\\' the coordinates appear not to have cited any Wikipedia policies at all that would exclude the coordinates.\\nEven the closing statement says that there is a policy that would have the coordinates included in the article (even when an external organization wants them removed) but does not mention any policy that would exclude them.\\n\\nThe result of \"no consensus\" is not appropriate because it applies equal weighting to opinions that have no basis in policy, whereas those opinions should have been discarded; only those opinions based on policy should have been considered. I submit that result of the RFC should have been to \\'\\'include\\'\\' the coordinates because there are several policies and guidelines that say we should include them and explicitly say that we will not remove them at the request of an external organization. There are no policies that would exclude the coordinates from the article. [[User': 2,\n",
       "             'Mitch Ames]] ([[User talk': 2,\n",
       "             'talk]]) 08': 2,\n",
       "             'Only in death does duty end]] ([[User talk': 2,\n",
       "             'Mitch Ames]] that policy reasons were presented, and that they are aware of it. It is their choice to come here and state otherwise. Diffs: [//en.wikipedia.org/w/index.php?title': 2,\n",
       "             'Nabla]] ([[User talk': 2,\n",
       "             'talk]]) 09:52, 6 December 2016 (UTC)\\n::I\\'m not asserting that the \"removers\" did not present any policy, I\\'m asserting that the removers did not present any policy \\'\\'that would exclude the coordinates from the article\\'\\'. [https://en.wikipedia.org/w/index.php?title': 2,\n",
       "             'talk]]) 23': 2,\n",
       "             'Hobit]] ([[User talk': 2,\n",
       "             'talk]]) 14': 2,\n",
       "             'Nyttend]] ([[User talk': 2,\n",
       "             'talk]]) 15': 2,\n",
       "             'Mr]][[user talk': 2,\n",
       "             'X]] 16': 2,\n",
       "             'type:landmark_region:FR_pop: _elevation:295_dim:1000_mapsize': 1,\n",
       "             'vtype': 1,\n",
       "             'issue': 1,\n",
       "             'issn': 1,\n",
       "             '{{#titleparts': 1,\n",
       "             'regior': 2,\n",
       "             'version': 2,\n",
       "             'diplay': 1,\n",
       "             'dms': 1})"
      ]
     },
     "execution_count": 10,
     "metadata": {},
     "output_type": "execute_result"
    }
   ],
   "source": [
    "from collections import defaultdict\n",
    "keywords = defaultdict(int)\n",
    "for coordString in coordStrings.values():\n",
    "    for kw in getKeywords(coordString).keys():\n",
    "        keywords[kw.strip()] += 1\n",
    "keywords"
   ]
  },
  {
   "cell_type": "code",
   "execution_count": 11,
   "metadata": {},
   "outputs": [
    {
     "data": {
      "text/plain": [
       "{\"The ''globe''&nbsp;[[File\",\n",
       " 'access-date',\n",
       " 'accessdate',\n",
       " 'date',\n",
       " 'dim',\n",
       " 'display',\n",
       " 'format',\n",
       " 'globe',\n",
       " 'id',\n",
       " 'name',\n",
       " 'notes',\n",
       " 'publisher',\n",
       " 'region',\n",
       " 'scale',\n",
       " 'source',\n",
       " 'title',\n",
       " 'type',\n",
       " 'upright',\n",
       " 'url',\n",
       " 'work'}"
      ]
     },
     "execution_count": 11,
     "metadata": {},
     "output_type": "execute_result"
    }
   ],
   "source": [
    "{kw for kw,count in keywords.items() if count > 10}"
   ]
  },
  {
   "cell_type": "markdown",
   "metadata": {},
   "source": [
    "Most of these look good except for a few that are duplicates or a weird artifact from the imperfect string processing. "
   ]
  },
  {
   "cell_type": "code",
   "execution_count": 12,
   "metadata": {},
   "outputs": [
    {
     "name": "stdout",
     "output_type": "stream",
     "text": [
      "accessdate TEXT,\n",
      "date TEXT,\n",
      "dim TEXT,\n",
      "display TEXT,\n",
      "elevation TEXT,\n",
      "format TEXT,\n",
      "globe TEXT,\n",
      "id TEXT,\n",
      "name TEXT,\n",
      "nosave TEXT,\n",
      "notes TEXT,\n",
      "publisher TEXT,\n",
      "reason TEXT,\n",
      "region TEXT,\n",
      "scale TEXT,\n",
      "source TEXT,\n",
      "title TEXT,\n",
      "type TEXT,\n",
      "upright TEXT,\n",
      "url TEXT,\n",
      "work TEXT,\n"
     ]
    }
   ],
   "source": [
    "entriesList = [\n",
    " 'accessdate',\n",
    " 'date',\n",
    " 'dim',\n",
    " 'display',\n",
    " 'elevation',\n",
    " 'format',\n",
    " 'globe',\n",
    " 'id',\n",
    " 'name',\n",
    " 'nosave',\n",
    " 'notes',\n",
    " 'publisher',\n",
    " 'reason',\n",
    " 'region',\n",
    " 'scale',\n",
    " 'source',\n",
    " 'title',\n",
    " 'type',\n",
    " 'upright',\n",
    " 'url',\n",
    " 'work']\n",
    "for e in entriesList:\n",
    "    print(e, 'TEXT,')"
   ]
  },
  {
   "cell_type": "markdown",
   "metadata": {},
   "source": [
    "It would be nice to see examples of values for the keywords so we can see how they're used."
   ]
  },
  {
   "cell_type": "code",
   "execution_count": 13,
   "metadata": {},
   "outputs": [],
   "source": [
    "from numpy.random import shuffle\n",
    "def findKeywordExample(kw, count=1, debug=False):\n",
    "    kws = []\n",
    "    coordStringsList = list(coordStrings.values())\n",
    "    shuffle(coordStringsList)\n",
    "    for cs in coordStringsList:\n",
    "        if f'|{kw}=' in cs:\n",
    "            kws.append(cs.split(f'|{kw}=')[1].split('|')[0])\n",
    "            if debug:\n",
    "                print(cs)\n",
    "        elif f'|{kw}:' in cs:\n",
    "            kws.append(cs.split(f'|{kw}:')[1].split('|')[0])\n",
    "            if debug:\n",
    "                print(cs)\n",
    "        if len(kws) >= count:\n",
    "            break\n",
    "    return kws"
   ]
  },
  {
   "cell_type": "code",
   "execution_count": 14,
   "metadata": {},
   "outputs": [
    {
     "name": "stdout",
     "output_type": "stream",
     "text": [
      "Coord|49|36|N|2|53|W|name=Britannic\n",
      "Coord|43|02|11|N|83|26|24|W|region:US-MI_type:city_scale:30000_source:GNIS|name=Elba\n",
      "Coord|54|21|15|N|6|01|30|E|type:landmark|name=BorWin1 - Borkum 2 Platform\n",
      "Coord|42.74196953|-90.32643556|type:edu_scale:3000_region:US|display=title|name=Belmont High School (Belmont, Wisconsin)\n",
      "Coord|42|27|3.378|N|84|11|11.804|W|dim:250_region:US-MI_type:edu|name=Stockbridge Community Schools Central Office|display=inline,title\n",
      "Coord|50|56|43|N|005|03|01|E|name=Blakenberg Airfield\n",
      "Coord|45|05|30|N|069|05|42|W|name=Charleston AFS P-65|display=inline,title\n",
      "Coord|39|41|51|N|96|40|46|W|format=dms|display=title|name=Little Blue River|type:river_region:US-KS\n",
      "Coord|51.1384|N|2.7358|W|display=inline|region:GB-SOM_type:landmark|format=dms|name=Start point at River Brue\n",
      "Coord|38|19|13|N|123|2|6|W|type:landmark_region:US-CA|name=Bird Walk\n"
     ]
    },
    {
     "data": {
      "text/plain": [
       "['Britannic',\n",
       " 'Elba',\n",
       " 'BorWin1 - Borkum 2 Platform',\n",
       " 'Belmont High School (Belmont, Wisconsin)',\n",
       " 'Stockbridge Community Schools Central Office',\n",
       " 'Blakenberg Airfield',\n",
       " 'Charleston AFS P-65',\n",
       " 'Little Blue River',\n",
       " 'Start point at River Brue',\n",
       " 'Bird Walk']"
      ]
     },
     "execution_count": 14,
     "metadata": {},
     "output_type": "execute_result"
    }
   ],
   "source": [
    "findKeywordExample('name', 10, True)"
   ]
  },
  {
   "cell_type": "markdown",
   "metadata": {},
   "source": [
    "Now we can create all the columns en masse."
   ]
  },
  {
   "cell_type": "code",
   "execution_count": 174,
   "metadata": {
    "scrolled": true
   },
   "outputs": [
    {
     "data": {
      "text/plain": [
       "<sqlite3.Cursor at 0x2656087cb20>"
      ]
     },
     "execution_count": 174,
     "metadata": {},
     "output_type": "execute_result"
    }
   ],
   "source": [
    "c.execute('''CREATE TABLE coords\n",
    "    (coords TEXT,\n",
    "    lat REAL DEFAULT 0,\n",
    "    lon REAL DEFAULT 0,\n",
    "    page_num INTEGER PRIMARY KEY,\n",
    "    accessdate TEXT DEFAULT '',\n",
    "    date TEXT DEFAULT '',\n",
    "    dim TEXT DEFAULT '',\n",
    "    display TEXT DEFAULT '',\n",
    "    elevation TEXT DEFAULT '',\n",
    "    format TEXT DEFAULT '',\n",
    "    globe TEXT DEFAULT '',\n",
    "    id TEXT DEFAULT '',\n",
    "    name TEXT DEFAULT '',\n",
    "    nosave TEXT DEFAULT '',\n",
    "    notes TEXT DEFAULT '',\n",
    "    publisher TEXT DEFAULT '',\n",
    "    reason TEXT DEFAULT '',\n",
    "    region TEXT DEFAULT '',\n",
    "    scale TEXT DEFAULT '',\n",
    "    source TEXT DEFAULT '',\n",
    "    title TEXT DEFAULT '',\n",
    "    type TEXT DEFAULT '',\n",
    "    upright TEXT DEFAULT '',\n",
    "    url TEXT DEFAULT '',\n",
    "    work TEXT DEFAULT '')\n",
    "''')"
   ]
  },
  {
   "cell_type": "code",
   "execution_count": 173,
   "metadata": {
    "scrolled": true
   },
   "outputs": [
    {
     "data": {
      "text/plain": [
       "<sqlite3.Cursor at 0x2656087cb20>"
      ]
     },
     "execution_count": 173,
     "metadata": {},
     "output_type": "execute_result"
    }
   ],
   "source": [
    "# c.execute('''DROP TABLE coords''')"
   ]
  },
  {
   "cell_type": "code",
   "execution_count": 39,
   "metadata": {},
   "outputs": [
    {
     "name": "stdout",
     "output_type": "stream",
     "text": [
      "['44', '38', '9.44', 'N', '63', '35', '25.17', 'W']\n",
      "['40', '42', '31', 'N', '74', '00', '36', 'W']\n",
      "['23.7186', 'N', '90.3981', 'E']\n",
      "['44.8951', '-93.2608']\n",
      "['44.298775', '-120.141648']\n",
      "['22.7277', '114.2661']\n",
      "[]\n",
      "['45', '20', '48.97', 'N', '75', '45', '33.79', 'W']\n",
      "['45', '25', '39.1', 'N', '75', '41', '28.2', 'W']\n",
      "['45', '25', '39.1', 'N', '75', '41', '28.2', 'W']\n"
     ]
    }
   ],
   "source": [
    "def extract_lat_lon(coord_string):\n",
    "    split = coord_string.split('|')\n",
    "    coord_list = []\n",
    "    for s in split:\n",
    "        if ':' in s or '=' in s:\n",
    "            break\n",
    "        if 'Coord' not in s and 'LAT' not in s and 'LONG' not in s:\n",
    "            coord_list.append(s)  \n",
    "    return coord_list\n",
    "\n",
    "begin = random.randint(0, len(coordStrings)-10)\n",
    "for i in range(begin, begin+10):\n",
    "    print(extract_lat_lon(list(coordStrings.values())[i]))"
   ]
  },
  {
   "cell_type": "code",
   "execution_count": 146,
   "metadata": {},
   "outputs": [
    {
     "name": "stdout",
     "output_type": "stream",
     "text": [
      "['{{Infobox UK postcode area/stats', '{{{area_code', 'WC'] (0, 'wrong number of directions for:', ['{{infobox uk postcode area/stats', '{{{area_code', 'wc'])\n",
      "[\"''lat''\", \"''long''\"] could not convert string to float: \"''lat''\"\n",
      "['latitude', 'longitude'] could not convert string to float: 'latitude'\n",
      "['latitude', 'longitude'] could not convert string to float: 'latitude'\n",
      "['latitude', 'longitude'] could not convert string to float: 'latitude'\n",
      "['coord]]', '1', '2'] (0, 'wrong number of directions for:', ['coord]]', '1', '2'])\n",
      "['latitude', 'longitude'] could not convert string to float: 'latitude'\n",
      "['latitude', 'longitude'] could not convert string to float: 'latitude'\n",
      "['latitude', 'longitude'] could not convert string to float: 'latitude'\n"
     ]
    }
   ],
   "source": [
    "def convert_to_decimal(coord_list):\n",
    "#     print(' '.join(coord_list), end='\\t')\n",
    "    coord_list = [s.strip().lower() for s in coord_list if s.strip() != '']\n",
    "    if len(coord_list) < 2:\n",
    "        return [0, 0]\n",
    "    if len(coord_list) == 2:\n",
    "        return [float(coord_list[0]), float(coord_list[1])]\n",
    "    directions = 0\n",
    "    for s in coord_list:\n",
    "        s = s.strip().lower()\n",
    "        if s and s.strip() in 'nesw':\n",
    "            directions += 1\n",
    "    if directions != 2:\n",
    "        raise Exception(directions, \"wrong number of directions for:\", coord_list)\n",
    "        \n",
    "    lat = []\n",
    "    lon = []\n",
    "    creating_lat = True\n",
    "    for s in coord_list:\n",
    "        s = s.strip().lower()\n",
    "        if s == '':\n",
    "            continue\n",
    "        if creating_lat:\n",
    "            if s in 'ns':\n",
    "                creating_lat = False\n",
    "                while len(lat) < 3:\n",
    "                    lat.append(0)\n",
    "                if s == 'n':\n",
    "                    lat.append(1)\n",
    "                else:\n",
    "                    lat.append(-1)\n",
    "            else:\n",
    "                if ',' in s:\n",
    "                    s = s.replace(',', '.')\n",
    "                lat.append(float(s))\n",
    "        else:\n",
    "            if s in 'ew':\n",
    "                while len(lon) < 3:\n",
    "                    lon.append(0)\n",
    "                if s == 'e':\n",
    "                    lon.append(1)\n",
    "                else:\n",
    "                    lon.append(-1)\n",
    "            else:\n",
    "                if ',' in s:\n",
    "                    s = s.replace(',', '.')\n",
    "                lon.append(float(s))\n",
    "    return [\n",
    "        (lat[0] + lat[1]/60 + lat[2]/3600) * lat[3],\n",
    "        (lon[0] + lon[1]/60 + lon[2]/3600) * lon[3]\n",
    "    ]\n",
    "\n",
    "count = 1000\n",
    "begin = random.randint(0, len(coordStrings)-count)\n",
    "for i in range(begin, begin+count):\n",
    "    coord_list = extract_lat_lon(list(coordStrings.values())[i])\n",
    "    try:\n",
    "        result = convert_to_decimal(coord_list)\n",
    "    except Exception as e:\n",
    "        print(coord_list, e)\n",
    "#     print(result)"
   ]
  },
  {
   "cell_type": "code",
   "execution_count": 153,
   "metadata": {},
   "outputs": [],
   "source": [
    "def insertKeywordDict(page_num, coords, kws, debug=False):\n",
    "    allowed_keys = [kw for kw in kws.keys() if kw in entriesList]\n",
    "    allowed_vals = [kws[kw] for kw in allowed_keys]\n",
    "    \n",
    "    try:\n",
    "        lat,lon = convert_to_decimal(extract_lat_lon(coords))\n",
    "    except:\n",
    "        lat = lon = 0\n",
    "    keys = ['coords', 'lat', 'lon', 'page_num'] + allowed_keys\n",
    "    vals = [coords, lat, lon, page_num] + allowed_vals\n",
    "    \n",
    "    qstring = f'INSERT INTO coords (\\\n",
    "        {\",\".join(keys)}) VALUES (\\\n",
    "        {\",\".join([\"?\" for item in vals])})'\n",
    "    \n",
    "    if debug:\n",
    "        print(qstring, vals)\n",
    "    c.execute(qstring, vals)\n",
    "# insertKeywordDict({'region': 'US-AK_type', 'display': 'title', 'notes': '<ref>{{Cite gnis'})"
   ]
  },
  {
   "cell_type": "markdown",
   "metadata": {},
   "source": [
    "Grab a drink before running the next cell, it'll take a while."
   ]
  },
  {
   "cell_type": "code",
   "execution_count": 175,
   "metadata": {},
   "outputs": [
    {
     "name": "stdout",
     "output_type": "stream",
     "text": [
      "100.0\r"
     ]
    }
   ],
   "source": [
    "count = 0\n",
    "for page_idx,coordString in coordStrings.items():\n",
    "    keywords = getKeywords(coordString)\n",
    "    keywords['title'] = idx_to_title[page_idx]\n",
    "    insertKeywordDict(page_idx, coordString, keywords)\n",
    "    if count > 100:\n",
    "        english.db.commit()\n",
    "        print(round(100*count/len(coordStrings), 2), end='\\r')\n",
    "    count += 1"
   ]
  },
  {
   "cell_type": "code",
   "execution_count": 178,
   "metadata": {},
   "outputs": [],
   "source": [
    "# c.execute('''SELECT * FROM coords WHERE page_num > 19000000''').fetchall()"
   ]
  },
  {
   "cell_type": "code",
   "execution_count": 23,
   "metadata": {},
   "outputs": [
    {
     "data": {
      "text/plain": [
       "[('Space Needle',),\n",
       " ('Woodland Park Zoo',),\n",
       " ('Belltown, Seattle',),\n",
       " ('Cranium, Inc.',),\n",
       " ('Seattle Aquarium',),\n",
       " ('Attachmate',),\n",
       " ('Unexpected Productions',),\n",
       " ('Memorial Stadium (Seattle)',),\n",
       " ('Cutter & Buck',),\n",
       " ('Mercer Arena',),\n",
       " ('Seattle Cinerama',),\n",
       " (\"Beth's Cafe\",),\n",
       " ('Pike Place Fish Market',),\n",
       " ('Flight to Mars (ride)',),\n",
       " ('InterConnection.org',),\n",
       " ('A Place for Mom',),\n",
       " ('Eastern Congo Initiative',),\n",
       " ('Institute for Health Metrics and Evaluation',),\n",
       " ('Impinj',),\n",
       " ('Griffin College',),\n",
       " ('Lundeberg Derby Monument',),\n",
       " ('Canlis',),\n",
       " ('Original Starbucks',),\n",
       " ('Pier 57 (Seattle)',),\n",
       " ('Fremont Brewing',),\n",
       " ('Bell Street Park',),\n",
       " ('Arrivé',),\n",
       " ('Tower 12',),\n",
       " ('Left Bank Books',)]"
      ]
     },
     "execution_count": 23,
     "metadata": {},
     "output_type": "execute_result"
    }
   ],
   "source": [
    "l = c.execute('''SELECT title FROM coords WHERE \n",
    "        \n",
    "         lat BETWEEN 47.6 AND 47.7\n",
    "        AND lon BETWEEN -122.35 AND -122.34\n",
    "    ''').fetchall()\n",
    "l"
   ]
  },
  {
   "cell_type": "code",
   "execution_count": 27,
   "metadata": {},
   "outputs": [
    {
     "data": {
      "text/plain": [
       "[]"
      ]
     },
     "execution_count": 27,
     "metadata": {},
     "output_type": "execute_result"
    }
   ],
   "source": [
    "english.cursor.execute('''SELECT * FROM titles WHERE \n",
    "title IN (SELECT title FROM coords WHERE \n",
    "          lat BETWEEN 47.6 AND 47.7\n",
    "          AND lon BETWEEN -122.35 AND -122.34)\n",
    "''').fetchall()"
   ]
  },
  {
   "cell_type": "code",
   "execution_count": 30,
   "metadata": {},
   "outputs": [
    {
     "data": {
      "text/plain": [
       "[]"
      ]
     },
     "execution_count": 30,
     "metadata": {},
     "output_type": "execute_result"
    }
   ],
   "source": [
    "english.cursor.execute('''DROP TABLE titles\n",
    "''').fetchall()"
   ]
  }
 ],
 "metadata": {
  "kernelspec": {
   "display_name": "Python 3",
   "language": "python",
   "name": "python3"
  },
  "language_info": {
   "codemirror_mode": {
    "name": "ipython",
    "version": 3
   },
   "file_extension": ".py",
   "mimetype": "text/x-python",
   "name": "python",
   "nbconvert_exporter": "python",
   "pygments_lexer": "ipython3",
   "version": "3.7.3"
  }
 },
 "nbformat": 4,
 "nbformat_minor": 2
}
