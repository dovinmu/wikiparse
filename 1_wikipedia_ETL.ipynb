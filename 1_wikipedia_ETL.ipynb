{
 "cells": [
  {
   "cell_type": "markdown",
   "metadata": {},
   "source": [
    "# Extract coordinates and keywords from Wikipedia\n",
    "\n",
    "Wikipedia allows you to download the entirety of its contents. For English only (and without talk pages) that comes out to about 16 GB of data in the zipped format. We're only interested in articles with coordinates specified for the article itself (rather than something the article refers to). So we need to 1) be able to read in a page, given either a page ID or the page's title, and 2) query all pages with coordinates with a certain display type.\n",
    "\n",
    "Wikipedia provides an index file to go with the database dump, that lets you read articles in batches of 100 using byte locations. But I'd rather have the exact index to all the pages; that will save time when we're iterating over a subset of the pages later. And compared to other things I'm doing, building my own index isn't terribly computationally expensive.\n",
    "\n",
    "First, let's tell it where the dump file is. I made a 10 MB sample file that we can use."
   ]
  },
  {
   "cell_type": "code",
   "execution_count": 1,
   "metadata": {},
   "outputs": [],
   "source": [
    "from pathlib import Path\n",
    "xml_filename = \"wiki_sample.xml\"\n",
    "\n",
    "scratch_folder = Path(\"scratch-pipeline\")"
   ]
  },
  {
   "cell_type": "markdown",
   "metadata": {},
   "source": [
    "## What we want to create\n",
    "\n",
    "For each page, we're going to have the start and end indices, the page number, title, and the coord tag. We'll ignore any pages that don't have the string `Coord` or `coord`.\n",
    "\n",
    "Here are the databases we're creating:\n",
    " - `index`: maps page number to the title, start and end indices, and raw coord tag\n",
    " - `coords`: maps page number to lots of attributes in a coord tag\n",
    " - `title`: maps page title to page number\n",
    " \n",
    "Here's an example of a coord tag from a Wikipedia article:\n",
    "```\n",
    "coord|42.440556|-98.148083|type:landmark|name=Ashfall Fossil Beds\n",
    "```\n",
    "\n",
    "Let's get started."
   ]
  },
  {
   "cell_type": "code",
   "execution_count": 2,
   "metadata": {},
   "outputs": [],
   "source": [
    "from wikiparse import geo_indexer\n",
    "import time\n",
    "pipeline_start = time.time()"
   ]
  },
  {
   "cell_type": "code",
   "execution_count": 3,
   "metadata": {},
   "outputs": [
    {
     "name": "stdout",
     "output_type": "stream",
     "text": [
      "opening scratch-pipeline\\index.db\n",
      "Ready. Metadata: [('size', 999)]\n",
      "iterating 100.0% of pages took 0.01 minutes\n",
      "100.0 % contained coordinates tag\n",
      "Creating title dictionary\n",
      "        0.0%\t5.98ms / page  \r"
     ]
    }
   ],
   "source": [
    "indexer = geo_indexer.Indexer(xml_filename,\n",
    "            scratch_folder=scratch_folder)\n",
    "indexer.load()"
   ]
  },
  {
   "cell_type": "markdown",
   "metadata": {},
   "source": [
    "How many pages do we have? This is the number that have coord tags."
   ]
  },
  {
   "cell_type": "code",
   "execution_count": 4,
   "metadata": {},
   "outputs": [
    {
     "data": {
      "text/plain": [
       "999"
      ]
     },
     "execution_count": 4,
     "metadata": {},
     "output_type": "execute_result"
    }
   ],
   "source": [
    "len(indexer.get_page_numbers())"
   ]
  },
  {
   "cell_type": "markdown",
   "metadata": {},
   "source": [
    "Let's check out a page."
   ]
  },
  {
   "cell_type": "code",
   "execution_count": 7,
   "metadata": {},
   "outputs": [
    {
     "name": "stdout",
     "output_type": "stream",
     "text": [
      "\"Chermignon\" \n",
      "\n",
      "\n",
      "\n",
      "Chermignon is a former Municipalities of Switzerland municipality in the district of Sierre district Sierre in the Cantons of Switzerland canton of Valais in Switzerland. On 1 January 2017 the former municipalities of Chermignon, Mollens, Valais Mollens, Montana, Switzerland Montana and Randogne merged into the new municipality of Crans-Montana.\n",
      "\n",
      "  History  \n",
      "Chermignon is first mentioned in 1228 as Chermenon and Chirminon.  It became an independent municipality in 1905 when it separated from Lens, Valais Lens.\n",
      "\n",
      "  Geography  \n",
      "Chermignon had an area, , of .  Of this area,  or 38.8% is used for agricultural purposes, while  or 30.5% is forested.   Of the rest of the land,  or 28.6% is settled buildings or roads,  or 0.4% is either rivers or lakes and  or 1.3% is unproductive land.  \n",
      "\n",
      "Of the built up area, industrial buildings made up 1.3% of the total area while housing and buildings made up 17.3% and transportation infrastructure made up 6.1%. while parks, green belts and sports fields\n"
     ]
    }
   ],
   "source": [
    "page = indexer.get_page_by_num(indexer.get_page_numbers()[5])\n",
    "print(f'\"{page.title}\" \\n\\n{page.text[:1000]}')"
   ]
  },
  {
   "cell_type": "markdown",
   "metadata": {},
   "source": [
    "We're losing _some_ of the actual text of the Wikipedia article, but generally the filter's doing a good job of keeping out the metadata and keeping in the text."
   ]
  },
  {
   "cell_type": "code",
   "execution_count": 6,
   "metadata": {},
   "outputs": [
    {
     "name": "stdout",
     "output_type": "stream",
     "text": [
      "pipeline took 4.75 seconds\n"
     ]
    }
   ],
   "source": [
    "took = time.time() - pipeline_start\n",
    "if took < 60:\n",
    "    print(\"pipeline took\", round(took, 2), \"seconds\")\n",
    "elif took < 3600:\n",
    "    print(\"pipeline took\", round(took/60, 2), \"minutes\")\n",
    "else:\n",
    "    print(\"pipeline took\", round(took/60/60, 2), \"hours\")"
   ]
  }
 ],
 "metadata": {
  "kernelspec": {
   "display_name": "Python 3",
   "language": "python",
   "name": "python3"
  },
  "language_info": {
   "codemirror_mode": {
    "name": "ipython",
    "version": 3
   },
   "file_extension": ".py",
   "mimetype": "text/x-python",
   "name": "python",
   "nbconvert_exporter": "python",
   "pygments_lexer": "ipython3",
   "version": "3.7.4"
  }
 },
 "nbformat": 4,
 "nbformat_minor": 4
}
