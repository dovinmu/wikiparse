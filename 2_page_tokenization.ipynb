{
 "cells": [
  {
   "cell_type": "markdown",
   "metadata": {},
   "source": [
    "## Compute most common words across all pages we're considering\n",
    "\n",
    "In order to do the most significant words computation, we need to know the frequency of words across all the pages we've collected (term frequency), and the frequency of all words across the entire corpus (document frequency)."
   ]
  },
  {
   "cell_type": "code",
   "execution_count": 1,
   "metadata": {},
   "outputs": [],
   "source": [
    "from wikiparse import geo_indexer, tokenize"
   ]
  },
  {
   "cell_type": "code",
   "execution_count": 2,
   "metadata": {},
   "outputs": [],
   "source": [
    "from pathlib import Path\n",
    "from wikiparse import config\n",
    "\n",
    "xml_filename = config.xml\n",
    "scratch_folder = Path(config.folder)"
   ]
  },
  {
   "cell_type": "code",
   "execution_count": 3,
   "metadata": {},
   "outputs": [
    {
     "name": "stdout",
     "output_type": "stream",
     "text": [
      "opening C:\\Users\\rowan\\Documents\\geowiki\\scratch\\index.db\n",
      "Ready. Metadata: [('size', 1524893)]\n"
     ]
    }
   ],
   "source": [
    "indexer = geo_indexer.Indexer(xml_filename,\n",
    "            scratch_folder=scratch_folder)"
   ]
  },
  {
   "cell_type": "code",
   "execution_count": 4,
   "metadata": {},
   "outputs": [],
   "source": [
    "import time\n",
    "pipeline_start = time.time()"
   ]
  },
  {
   "cell_type": "code",
   "execution_count": 5,
   "metadata": {},
   "outputs": [
    {
     "name": "stdout",
     "output_type": "stream",
     "text": [
      "creating queue with 10 threads\n",
      "done starting threads; queueing\n",
      "time left: 18.4 hours\t\ting\n",
      "time left: 5.1 hours\t\teing\n",
      "time left: 5.29 hours\t\ting\n",
      "time left: 5.12 hours\t\ting\n",
      "time left: 4.92 hours\t\ting\n",
      "9.587time left: 4.61 hours\t\t\n",
      "time left: 4.44 hours\t\teing\n",
      "time left: 4.06 hours\t\teing\n",
      "time left: 3.55 hours\t\teing\n",
      "time left: 3.51 hours\t\teing\n",
      "time left: 3.38 hours\t\tingg\n",
      "time left: 3.18 hours\t\teing\n",
      "time left: 2.81 hours\t\teing\n",
      "time left: 2.5 hours\t\tueing\n",
      "time left: 2.43 hours\t\teing\n",
      "time left: 2.39 hours\t\teing\n",
      "time left: 2.35 hours\t\teing\n",
      "time left: 2.25 hours\t\teing\n",
      "time left: 2.09 hours\t\teing\n",
      "time left: 1.59 hours\t\teing\n",
      "time left: 1.57 hours\t\teing\n",
      "time left: 1.56 hours\t\teing\n",
      "time left: 1.52 hours\t\teing % done with queueing\n",
      "time left: 1.36 hours\t\teing % done with queueing % done with queueing % done with queueing % done with queueing% done with queueing\n",
      "time left: 1.34 hours\t\tingg\n",
      "time left: 1.28 hours\t\teing\n",
      "time left: 1.28 hours\t\t\n",
      "time left: 1.25 hours\t\teing\n",
      "time left: 1.21 hours\t\teing\n",
      "time left: 1.05 hours\t\teing % done with queueing\n",
      "time left: 1.01 hours\t\teing % done with queueing\n",
      "time left: 0.92 hours\t\tingg\n",
      "time left: 0.91 hours\t\teing\n",
      "time left: 0.74 hours\t\teing\n",
      "time left: 0.68 hours\t\teing% done with queueing% done with queueing% done with queueing\n",
      "time left: 0.66 hours\t\teing % done with queueing\n",
      "time left: 0.55 hours\t\teing\n",
      "time left: 0.51 hours\t\tingg\n",
      "time left: 0.5 hours\t\tueing\n",
      "time left: 0.49 hours\t\teing\n",
      "time left: 0.4 hours\t\tueing\n",
      "time left: 0.36 hours\t\teing % done with queueing\n",
      "time left: 0.36 hours\t\teing\n",
      "time left: 0.36 hours\t\t\n",
      "time left: 0.34 hours\t\teing % done with queueing\n",
      "time left: 0.32 hours\t\teing % done with queueing\n",
      "time left: 0.29 hours\t\teing % done with queueing % done with queueing\n",
      "time left: 0.28 hours\t\teing\n",
      "time left: 0.27 hours\t\teing\n",
      "time left: 0.24 hours\t\teing\n",
      "time left: 0.23 hours\t\teing\n",
      "time left: 0.21 hours\t\teing\n",
      "time left: 0.14 hours\t\teing\n",
      "time left: 0.1 hours\t\tueing\n",
      "time left: 0.09 hours\t\teing\n",
      "time left: 0.06 hours\t\teing\n",
      "time left: 0.06 hours\t\teing\n",
      "time left: 0.04 hours\t\teing\n",
      "time left: 0.03 hours\t\teing\n",
      "time left: 0.01 hours\t\teing\n",
      "done queueing pages           \n",
      "telling threads to stop\n",
      "waiting\n"
     ]
    }
   ],
   "source": [
    "doc_freq = tokenize.create_doc_freq(indexer, scratch_folder)"
   ]
  },
  {
   "cell_type": "code",
   "execution_count": 6,
   "metadata": {},
   "outputs": [
    {
     "name": "stdout",
     "output_type": "stream",
     "text": [
      "saved docfreq file to  C:\\Users\\rowan\\Documents\\geowiki\\scratch\\wikipedia_wordfreq.pkl\n"
     ]
    }
   ],
   "source": [
    "import pickle\n",
    "fname = scratch_folder/'wikipedia_wordfreq.pkl'\n",
    "with open(fname, 'wb') as f:\n",
    "    f.write(pickle.dumps(doc_freq))\n",
    "print(\"saved docfreq file to \", fname)"
   ]
  },
  {
   "cell_type": "markdown",
   "metadata": {},
   "source": [
    "## Term Frequency, Inverse Document Frequency\n",
    "Gets each page and creates a list of all the words that occur in it, and their TF-IDF / significance score. Save the top 30 most significant words for each page."
   ]
  },
  {
   "cell_type": "code",
   "execution_count": 7,
   "metadata": {},
   "outputs": [
    {
     "name": "stdout",
     "output_type": "stream",
     "text": [
      "computing TF-IDF for 647725 pages\n",
      "time left ~ 2.53 hours ; done: 11\n",
      "time left ~ 2.28 hours ; done: 16\n",
      "time left ~ 1.67 hours ; done: 48\n",
      "time left ~ 1.72 hours ; done: 69\n",
      "time left ~ 2.05 hours ; done: 288\n",
      "time left ~ 2.08 hours ; done: 1369\n",
      "time left ~ 2.12 hours ; done: 2187\n",
      "time left ~ 2.01 hours ; done: 9519\n",
      "wrote to CSV C:\\Users\\rowan\\Documents\\geowiki\\scratch\\tfidf_0.csv\n",
      "time left ~ 2.08 hours ; done: 11998\n",
      "time left ~ 2.05 hours ; done: 19147\n",
      "time left ~ 2.05 hours ; done: 19664\n",
      "wrote to CSV C:\\Users\\rowan\\Documents\\geowiki\\scratch\\tfidf_1.csv\n",
      "time left ~ 2.08 hours ; done: 23195\n",
      "wrote to CSV C:\\Users\\rowan\\Documents\\geowiki\\scratch\\tfidf_2.csv\n",
      "time left ~ 2.02 hours ; done: 35208\n",
      "wrote to CSV C:\\Users\\rowan\\Documents\\geowiki\\scratch\\tfidf_3.csv\n",
      "wrote to CSV C:\\Users\\rowan\\Documents\\geowiki\\scratch\\tfidf_4.csv\n",
      "time left ~ 1.97 hours ; done: 53976\n",
      "time left ~ 1.94 hours ; done: 58601\n",
      "wrote to CSV C:\\Users\\rowan\\Documents\\geowiki\\scratch\\tfidf_5.csv\n",
      "time left ~ 1.92 hours ; done: 67921\n",
      "time left ~ 1.91 hours ; done: 69420\n",
      "wrote to CSV C:\\Users\\rowan\\Documents\\geowiki\\scratch\\tfidf_6.csv\n",
      "time left ~ 1.91 hours ; done: 73092\n",
      "time left ~ 1.9 hours ; done: 77058\n",
      "wrote to CSV C:\\Users\\rowan\\Documents\\geowiki\\scratch\\tfidf_7.csv\n",
      "time left ~ 1.86 hours ; done: 88583\n",
      "wrote to CSV C:\\Users\\rowan\\Documents\\geowiki\\scratch\\tfidf_8.csv\n",
      "time left ~ 1.85 hours ; done: 92151\n",
      "time left ~ 1.85 hours ; done: 94149\n",
      "time left ~ 1.82 hours ; done: 99986\n",
      "wrote to CSV C:\\Users\\rowan\\Documents\\geowiki\\scratch\\tfidf_9.csv\n",
      "wrote to CSV C:\\Users\\rowan\\Documents\\geowiki\\scratch\\tfidf_10.csv\n",
      "time left ~ 1.79 hours ; done: 113835\n",
      "wrote to CSV C:\\Users\\rowan\\Documents\\geowiki\\scratch\\tfidf_11.csv\n",
      "wrote to CSV C:\\Users\\rowan\\Documents\\geowiki\\scratch\\tfidf_12.csv\n",
      "time left ~ 1.71 hours ; done: 137145\n",
      "time left ~ 1.71 hours ; done: 137375\n",
      "wrote to CSV C:\\Users\\rowan\\Documents\\geowiki\\scratch\\tfidf_13.csv\n",
      "time left ~ 1.68 hours ; done: 148279\n",
      "wrote to CSV C:\\Users\\rowan\\Documents\\geowiki\\scratch\\tfidf_14.csv\n",
      "time left ~ 1.66 hours ; done: 153422\n",
      "wrote to CSV C:\\Users\\rowan\\Documents\\geowiki\\scratch\\tfidf_15.csv\n",
      "time left ~ 1.61 hours ; done: 168069\n",
      "wrote to CSV C:\\Users\\rowan\\Documents\\geowiki\\scratch\\tfidf_16.csv\n",
      "time left ~ 1.58 hours ; done: 176808\n",
      "wrote to CSV C:\\Users\\rowan\\Documents\\geowiki\\scratch\\tfidf_17.csv\n",
      "wrote to CSV C:\\Users\\rowan\\Documents\\geowiki\\scratch\\tfidf_18.csv\n",
      "wrote to CSV C:\\Users\\rowan\\Documents\\geowiki\\scratch\\tfidf_19.csv\n",
      "time left ~ 1.5 hours ; done: 201314\n",
      "wrote to CSV C:\\Users\\rowan\\Documents\\geowiki\\scratch\\tfidf_20.csv\n",
      "time left ~ 1.48 hours ; done: 210704\n",
      "wrote to CSV C:\\Users\\rowan\\Documents\\geowiki\\scratch\\tfidf_21.csv\n",
      "time left ~ 1.42 hours ; done: 224926\n",
      "time left ~ 1.42 hours ; done: 226226\n",
      "wrote to CSV C:\\Users\\rowan\\Documents\\geowiki\\scratch\\tfidf_22.csv\n",
      "wrote to CSV C:\\Users\\rowan\\Documents\\geowiki\\scratch\\tfidf_23.csv\n",
      "wrote to CSV C:\\Users\\rowan\\Documents\\geowiki\\scratch\\tfidf_24.csv\n",
      "wrote to CSV C:\\Users\\rowan\\Documents\\geowiki\\scratch\\tfidf_25.csv\n",
      "wrote to CSV C:\\Users\\rowan\\Documents\\geowiki\\scratch\\tfidf_26.csv\n",
      "time left ~ 1.25 hours ; done: 275580\n",
      "time left ~ 1.23 hours ; done: 279899\n",
      "wrote to CSV C:\\Users\\rowan\\Documents\\geowiki\\scratch\\tfidf_27.csv\n",
      "time left ~ 1.21 hours ; done: 286440\n",
      "time left ~ 1.2 hours ; done: 288438\n",
      "wrote to CSV C:\\Users\\rowan\\Documents\\geowiki\\scratch\\tfidf_28.csv\n",
      "time left ~ 1.18 hours ; done: 295019\n",
      "wrote to CSV C:\\Users\\rowan\\Documents\\geowiki\\scratch\\tfidf_29.csv\n",
      "time left ~ 1.13 hours ; done: 309643\n",
      "wrote to CSV C:\\Users\\rowan\\Documents\\geowiki\\scratch\\tfidf_30.csv\n",
      "time left ~ 1.11 hours ; done: 315228\n",
      "wrote to CSV C:\\Users\\rowan\\Documents\\geowiki\\scratch\\tfidf_31.csv\n",
      "time left ~ 1.07 hours ; done: 327408\n",
      "wrote to CSV C:\\Users\\rowan\\Documents\\geowiki\\scratch\\tfidf_32.csv\n",
      "wrote to CSV C:\\Users\\rowan\\Documents\\geowiki\\scratch\\tfidf_33.csv\n",
      "wrote to CSV C:\\Users\\rowan\\Documents\\geowiki\\scratch\\tfidf_34.csv\n",
      "time left ~ 58.2 minutes ; done: 357752\n",
      "wrote to CSV C:\\Users\\rowan\\Documents\\geowiki\\scratch\\tfidf_35.csv\n",
      "wrote to CSV C:\\Users\\rowan\\Documents\\geowiki\\scratch\\tfidf_36.csv\n",
      "time left ~ 55.4 minutes ; done: 371974\n",
      "wrote to CSV C:\\Users\\rowan\\Documents\\geowiki\\scratch\\tfidf_37.csv\n",
      "time left ~ 53.1 minutes ; done: 383274\n",
      "wrote to CSV C:\\Users\\rowan\\Documents\\geowiki\\scratch\\tfidf_38.csv\n",
      "wrote to CSV C:\\Users\\rowan\\Documents\\geowiki\\scratch\\tfidf_39.csv\n",
      "wrote to CSV C:\\Users\\rowan\\Documents\\geowiki\\scratch\\tfidf_40.csv\n",
      "wrote to CSV C:\\Users\\rowan\\Documents\\geowiki\\scratch\\tfidf_41.csv\n",
      "time left ~ 45.1 minutes ; done: 422630\n",
      "time left ~ 44.2 minutes ; done: 427401\n",
      "wrote to CSV C:\\Users\\rowan\\Documents\\geowiki\\scratch\\tfidf_42.csv\n",
      "wrote to CSV C:\\Users\\rowan\\Documents\\geowiki\\scratch\\tfidf_43.csv\n",
      "time left ~ 41.6 minutes ; done: 440198\n",
      "time left ~ 41.3 minutes ; done: 441625\n",
      "time left ~ 39.9 minutes ; done: 448606\n",
      "wrote to CSV C:\\Users\\rowan\\Documents\\geowiki\\scratch\\tfidf_44.csv\n",
      "time left ~ 38.2 minutes ; done: 456797\n",
      "wrote to CSV C:\\Users\\rowan\\Documents\\geowiki\\scratch\\tfidf_45.csv\n",
      "wrote to CSV C:\\Users\\rowan\\Documents\\geowiki\\scratch\\tfidf_46.csv\n",
      "wrote to CSV C:\\Users\\rowan\\Documents\\geowiki\\scratch\\tfidf_47.csv\n",
      "wrote to CSV C:\\Users\\rowan\\Documents\\geowiki\\scratch\\tfidf_48.csv\n",
      "time left ~ 30.7 minutes ; done: 494175\n",
      "wrote to CSV C:\\Users\\rowan\\Documents\\geowiki\\scratch\\tfidf_49.csv\n",
      "time left ~ 28.1 minutes ; done: 507003\n",
      "wrote to CSV C:\\Users\\rowan\\Documents\\geowiki\\scratch\\tfidf_50.csv\n",
      "time left ~ 26.8 minutes ; done: 513627\n",
      "wrote to CSV C:\\Users\\rowan\\Documents\\geowiki\\scratch\\tfidf_51.csv\n",
      "time left ~ 25.3 minutes ; done: 521319\n",
      "time left ~ 23.6 minutes ; done: 529356\n",
      "wrote to CSV C:\\Users\\rowan\\Documents\\geowiki\\scratch\\tfidf_52.csv\n",
      "time left ~ 21.5 minutes ; done: 539989\n",
      "wrote to CSV C:\\Users\\rowan\\Documents\\geowiki\\scratch\\tfidf_53.csv\n",
      "time left ~ 19.7 minutes ; done: 549158\n",
      "wrote to CSV C:\\Users\\rowan\\Documents\\geowiki\\scratch\\tfidf_54.csv\n",
      "wrote to CSV C:\\Users\\rowan\\Documents\\geowiki\\scratch\\tfidf_55.csv\n",
      "time left ~ 16.8 minutes ; done: 563639\n",
      "time left ~ 15.5 minutes ; done: 569956\n",
      "wrote to CSV C:\\Users\\rowan\\Documents\\geowiki\\scratch\\tfidf_56.csv\n",
      "wrote to CSV C:\\Users\\rowan\\Documents\\geowiki\\scratch\\tfidf_57.csv\n",
      "time left ~ 13.3 minutes ; done: 581192\n",
      "time left ~ 13.0 minutes ; done: 582648\n",
      "time left ~ 11.6 minutes ; done: 589582\n",
      "wrote to CSV C:\\Users\\rowan\\Documents\\geowiki\\scratch\\tfidf_58.csv\n",
      "wrote to CSV C:\\Users\\rowan\\Documents\\geowiki\\scratch\\tfidf_59.csv\n",
      "time left ~ 9.2 minutes ; done: 601562\n",
      "time left ~ 8.5 minutes ; done: 605165\n",
      "time left ~ 8.1 minutes ; done: 606932\n",
      "wrote to CSV C:\\Users\\rowan\\Documents\\geowiki\\scratch\\tfidf_60.csv\n",
      "time left ~ 6.5 minutes ; done: 615321\n",
      "wrote to CSV C:\\Users\\rowan\\Documents\\geowiki\\scratch\\tfidf_61.csv\n",
      "time left ~ 4.2 minutes ; done: 626874\n",
      "wrote to CSV C:\\Users\\rowan\\Documents\\geowiki\\scratch\\tfidf_62.csv\n",
      "time left ~ 3.5 minutes ; done: 630322\n",
      "time left ~ 3.2 minutes ; done: 631587\n",
      "time left ~ 2.6 minutes ; done: 634889\n",
      "wrote to CSV C:\\Users\\rowan\\Documents\\geowiki\\scratch\\tfidf_63.csv\n",
      "time left ~ 37.3 seconds ; done: 644611\n",
      "wrote to CSV C:\\Users\\rowan\\Documents\\geowiki\\scratch\\tfidf_64.csv\n",
      "storage finished\n",
      "0.01 ms per, total time: 1.4 hours\n"
     ]
    }
   ],
   "source": [
    "df = tokenize.create_tfidf(indexer, scratch_folder)"
   ]
  },
  {
   "cell_type": "code",
   "execution_count": 8,
   "metadata": {},
   "outputs": [
    {
     "name": "stdout",
     "output_type": "stream",
     "text": [
      "wrote final CSV to C:\\Users\\rowan\\Documents\\geowiki\\scratch\\tfidf.csv\n"
     ]
    }
   ],
   "source": [
    "fname = scratch_folder/'tfidf.csv'\n",
    "df.to_csv(fname)\n",
    "print(\"wrote final CSV to\", fname)"
   ]
  },
  {
   "cell_type": "code",
   "execution_count": 9,
   "metadata": {},
   "outputs": [
    {
     "data": {
      "text/html": [
       "<div>\n",
       "<style scoped>\n",
       "    .dataframe tbody tr th:only-of-type {\n",
       "        vertical-align: middle;\n",
       "    }\n",
       "\n",
       "    .dataframe tbody tr th {\n",
       "        vertical-align: top;\n",
       "    }\n",
       "\n",
       "    .dataframe thead th {\n",
       "        text-align: right;\n",
       "    }\n",
       "</style>\n",
       "<table border=\"1\" class=\"dataframe\">\n",
       "  <thead>\n",
       "    <tr style=\"text-align: right;\">\n",
       "      <th></th>\n",
       "      <th>Unnamed: 0</th>\n",
       "      <th>tf</th>\n",
       "      <th>article</th>\n",
       "      <th>df</th>\n",
       "      <th>tf_idf</th>\n",
       "    </tr>\n",
       "  </thead>\n",
       "  <tbody>\n",
       "    <tr>\n",
       "      <th>36431</th>\n",
       "      <td>mogendorf</td>\n",
       "      <td>1</td>\n",
       "      <td>Linden, Westerwaldkreis</td>\n",
       "      <td>28</td>\n",
       "      <td>0.035714</td>\n",
       "    </tr>\n",
       "    <tr>\n",
       "      <th>80958</th>\n",
       "      <td>inpatients</td>\n",
       "      <td>1</td>\n",
       "      <td>Rothbury Community Hospital</td>\n",
       "      <td>96</td>\n",
       "      <td>0.010417</td>\n",
       "    </tr>\n",
       "    <tr>\n",
       "      <th>237340</th>\n",
       "      <td>obsolete</td>\n",
       "      <td>1</td>\n",
       "      <td>Magill, South Australia</td>\n",
       "      <td>1007</td>\n",
       "      <td>0.000993</td>\n",
       "    </tr>\n",
       "    <tr>\n",
       "      <th>267908</th>\n",
       "      <td>businessman</td>\n",
       "      <td>1</td>\n",
       "      <td>Pulaski, Wisconsin</td>\n",
       "      <td>6294</td>\n",
       "      <td>0.000159</td>\n",
       "    </tr>\n",
       "    <tr>\n",
       "      <th>296749</th>\n",
       "      <td>parallel</td>\n",
       "      <td>1</td>\n",
       "      <td>Campaspe, Queensland</td>\n",
       "      <td>6942</td>\n",
       "      <td>0.000144</td>\n",
       "    </tr>\n",
       "    <tr>\n",
       "      <th>325219</th>\n",
       "      <td>coin</td>\n",
       "      <td>1</td>\n",
       "      <td>Tidbury Ring</td>\n",
       "      <td>1485</td>\n",
       "      <td>0.000673</td>\n",
       "    </tr>\n",
       "    <tr>\n",
       "      <th>246901</th>\n",
       "      <td>rental</td>\n",
       "      <td>1</td>\n",
       "      <td>Douglass Place</td>\n",
       "      <td>4011</td>\n",
       "      <td>0.000249</td>\n",
       "    </tr>\n",
       "    <tr>\n",
       "      <th>178826</th>\n",
       "      <td>divert</td>\n",
       "      <td>1</td>\n",
       "      <td>Herbert River</td>\n",
       "      <td>801</td>\n",
       "      <td>0.001248</td>\n",
       "    </tr>\n",
       "    <tr>\n",
       "      <th>273621</th>\n",
       "      <td>stopped</td>\n",
       "      <td>1</td>\n",
       "      <td>Mirny, Sakha Republic</td>\n",
       "      <td>6207</td>\n",
       "      <td>0.000161</td>\n",
       "    </tr>\n",
       "    <tr>\n",
       "      <th>234302</th>\n",
       "      <td>the</td>\n",
       "      <td>4</td>\n",
       "      <td>Pardeesville, Pennsylvania</td>\n",
       "      <td>581915</td>\n",
       "      <td>0.000007</td>\n",
       "    </tr>\n",
       "  </tbody>\n",
       "</table>\n",
       "</div>"
      ],
      "text/plain": [
       "         Unnamed: 0  tf                      article      df    tf_idf\n",
       "36431     mogendorf   1      Linden, Westerwaldkreis      28  0.035714\n",
       "80958    inpatients   1  Rothbury Community Hospital      96  0.010417\n",
       "237340     obsolete   1      Magill, South Australia    1007  0.000993\n",
       "267908  businessman   1           Pulaski, Wisconsin    6294  0.000159\n",
       "296749     parallel   1         Campaspe, Queensland    6942  0.000144\n",
       "325219         coin   1                 Tidbury Ring    1485  0.000673\n",
       "246901       rental   1               Douglass Place    4011  0.000249\n",
       "178826       divert   1                Herbert River     801  0.001248\n",
       "273621      stopped   1        Mirny, Sakha Republic    6207  0.000161\n",
       "234302          the   4   Pardeesville, Pennsylvania  581915  0.000007"
      ]
     },
     "execution_count": 9,
     "metadata": {},
     "output_type": "execute_result"
    }
   ],
   "source": [
    "df.sample(10)"
   ]
  },
  {
   "cell_type": "code",
   "execution_count": 10,
   "metadata": {},
   "outputs": [
    {
     "name": "stdout",
     "output_type": "stream",
     "text": [
      "pipeline took 3.75 hours\n"
     ]
    }
   ],
   "source": [
    "took = time.time() - pipeline_start\n",
    "if took < 60:\n",
    "    print(\"pipeline took\", round(took, 2), \"seconds\")\n",
    "elif took < 3600:\n",
    "    print(\"pipeline took\", round(took/60, 2), \"minutes\")\n",
    "else:\n",
    "    print(\"pipeline took\", round(took/60/60, 2), \"hours\")"
   ]
  }
 ],
 "metadata": {
  "kernelspec": {
   "display_name": "Python 3",
   "language": "python",
   "name": "python3"
  },
  "language_info": {
   "codemirror_mode": {
    "name": "ipython",
    "version": 3
   },
   "file_extension": ".py",
   "mimetype": "text/x-python",
   "name": "python",
   "nbconvert_exporter": "python",
   "pygments_lexer": "ipython3",
   "version": "3.8.3"
  }
 },
 "nbformat": 4,
 "nbformat_minor": 4
}
